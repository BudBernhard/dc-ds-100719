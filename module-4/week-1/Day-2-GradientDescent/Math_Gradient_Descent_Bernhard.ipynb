{
 "cells": [
  {
   "cell_type": "markdown",
   "metadata": {},
   "source": [
    "# Linear Algebra, Calculus, and Gradient Descent\n",
    "\n",
    "__Objectives__\n",
    "* Use operations with vectors and matrices to solve systems of linear equations\n",
    "* Identify and describe of scalars, vectors,  matrices, using appropriate mathematical jargon\n",
    "* Set up and solve systems of linear equations with real life examples\n",
    "* Describe gradient descent in relation to slope, derivatives, and step size\n",
    "\n",
    "\n",
    "## Why Linear Algebra?\n",
    "\n",
    "Linear Algebra is the basis of many machine learning models.\n",
    "\n",
    "Data is usually already set up into a matrix by default!\n",
    "\n",
    "<img src= \"./resources/dataset.jpeg\">\n"
   ]
  },
  {
   "cell_type": "markdown",
   "metadata": {},
   "source": [
    "\n",
    "It can be used to model complicated things like language\n",
    "\n",
    "<img src = \"./resources/Word-Vectors.png\">"
   ]
  },
  {
   "cell_type": "markdown",
   "metadata": {},
   "source": [
    "Important for image compression and recognition\n",
    "\n",
    "<img src = \"./resources/images.gif\">"
   ]
  },
  {
   "cell_type": "markdown",
   "metadata": {},
   "source": [
    "Also matrices are the common notation used in the popular libraries like numpy, scipy and sklearn.\n",
    "\n",
    "<img src = \"./resources/matrix_multiplication.png\">\n"
   ]
  },
  {
   "cell_type": "markdown",
   "metadata": {},
   "source": [
    "This is an image from Andrew Ng's Neural Networks and Deep Learning course.\n",
    "\n",
    "<img src = \"./resources/gradient_descent.png\" width  = 500>"
   ]
  },
  {
   "cell_type": "markdown",
   "metadata": {},
   "source": [
    "This is an image from Andrew Ng's Sequence Model's Course. \n",
    "\n",
    "<img src = \"./resources/lstm.png\" width  = 500>"
   ]
  },
  {
   "cell_type": "markdown",
   "metadata": {},
   "source": [
    "## Linear algebra and Linear Regression\n",
    "\n",
    "- Let's move to the notebook matrix algebra with numpy :)"
   ]
  },
  {
   "cell_type": "markdown",
   "metadata": {},
   "source": [
    "## Gradient Descent"
   ]
  },
  {
   "cell_type": "markdown",
   "metadata": {},
   "source": [
    "[Gradient slide](https://www.youtube.com/watch?v=vWFjqgb-ylQ)"
   ]
  },
  {
   "cell_type": "code",
   "execution_count": 5,
   "metadata": {},
   "outputs": [
    {
     "data": {
      "text/plain": [
       "0.9974949866040544"
      ]
     },
     "execution_count": 5,
     "metadata": {},
     "output_type": "execute_result"
    }
   ],
   "source": [
    "np.sin(1.5)"
   ]
  },
  {
   "cell_type": "markdown",
   "metadata": {},
   "source": [
    "## Gradient in Action"
   ]
  },
  {
   "cell_type": "code",
<<<<<<< HEAD
   "execution_count": 9,
=======
   "execution_count": 3,
>>>>>>> 52089019591787422b768c4a8bd431ce2533c13c
   "metadata": {},
   "outputs": [],
   "source": [
    "import pandas as pd\n",
    "import numpy as np\n",
    "from matplotlib import pyplot as plt\n",
    "import random\n",
    "import seaborn as sns"
   ]
  },
  {
   "cell_type": "code",
<<<<<<< HEAD
   "execution_count": 10,
=======
   "execution_count": 4,
>>>>>>> 52089019591787422b768c4a8bd431ce2533c13c
   "metadata": {},
   "outputs": [
    {
     "data": {
      "text/plain": [
       "array([0., 0., 0., 0., 0., 0., 0., 0., 0., 0.])"
      ]
     },
<<<<<<< HEAD
     "execution_count": 10,
=======
     "execution_count": 4,
>>>>>>> 52089019591787422b768c4a8bd431ce2533c13c
     "metadata": {},
     "output_type": "execute_result"
    }
   ],
   "source": [
    "numPoints=10\n",
    "np.zeros(shape=numPoints)"
   ]
  },
  {
   "cell_type": "code",
<<<<<<< HEAD
   "execution_count": 11,
=======
   "execution_count": 5,
>>>>>>> 52089019591787422b768c4a8bd431ce2533c13c
   "metadata": {},
   "outputs": [],
   "source": [
    "def genData(numPoints, bias, variance):\n",
    "    x = np.zeros(shape=(numPoints, 2))\n",
    "    y = np.zeros(shape=numPoints)\n",
    "    # basically a straight line\n",
    "    for i in range(0, numPoints):\n",
    "        # bias feature\n",
    "        x[i][0] = 1\n",
    "        x[i][1] = i\n",
    "        # our target variable\n",
    "        y[i] = (i + bias) + np.random.uniform(0, 1) * variance\n",
    "    return x, y"
   ]
  },
  {
   "cell_type": "code",
<<<<<<< HEAD
   "execution_count": 12,
=======
   "execution_count": null,
   "metadata": {},
   "outputs": [],
   "source": []
  },
  {
   "cell_type": "code",
   "execution_count": 7,
>>>>>>> 52089019591787422b768c4a8bd431ce2533c13c
   "metadata": {},
   "outputs": [],
   "source": [
    "# gen 100 points with a bias of 25 and 10 variance as a bit of noise\n",
    "x, y = genData(100, 25, 25)\n",
    "m, n = np.shape(x)"
   ]
  },
  {
   "cell_type": "code",
<<<<<<< HEAD
   "execution_count": 13,
=======
   "execution_count": null,
   "metadata": {},
   "outputs": [],
   "source": []
  },
  {
   "cell_type": "code",
   "execution_count": 21,
>>>>>>> 52089019591787422b768c4a8bd431ce2533c13c
   "metadata": {},
   "outputs": [
    {
     "data": {
      "image/png": "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\n",
      "text/plain": [
       "<Figure size 432x288 with 1 Axes>"
      ]
     },
     "metadata": {
      "needs_background": "light"
     },
     "output_type": "display_data"
    }
   ],
   "source": [
    "sns.scatterplot(x=x[:, 1], y=y)\n",
    "\n",
    "plt.show()"
   ]
  },
  {
   "cell_type": "code",
   "execution_count": 14,
   "metadata": {},
   "outputs": [
    {
     "data": {
      "text/plain": [
       "(100,)"
      ]
     },
     "execution_count": 14,
     "metadata": {},
     "output_type": "execute_result"
    }
   ],
   "source": [
    "x\n",
    "theta = np.array([1.90595185,1.5342646])\n",
    "np.dot(x, theta).shape"
   ]
  },
  {
   "cell_type": "markdown",
   "metadata": {},
   "source": [
    "__Your Turn__\n",
    "\n",
    "Write a gradient descent function for this linear problem\n",
    "\n",
    "- Inputs:\n",
    "x, y, theta: initialized with some random values, alpha: learning rate, m: length of data, numiterations: number of iterations\n",
    "\n",
    "- return: plot the errors for each iterations\n",
    "- return the final theta values"
   ]
  },
  {
   "cell_type": "code",
<<<<<<< HEAD
   "execution_count": 15,
   "metadata": {},
   "outputs": [],
   "source": [
    "# %load supplement\n",
=======
   "execution_count": 21,
   "metadata": {},
   "outputs": [],
   "source": [
    "# %load -r 1-20 supplement.py\n",
>>>>>>> 52089019591787422b768c4a8bd431ce2533c13c
    "def gradientDescent(x, y, theta, alpha, m, numIterations):\n",
    "    xTrans = x.transpose()\n",
    "    costs = []\n",
    "    for i in range(0, numIterations):\n",
    "        hypothesis = np.dot(x, theta)\n",
    "        loss = hypothesis - y\n",
    "        # avg cost per example (the 2 in 2*m doesn't really matter here.\n",
    "        # But to be consistent with the gradient, I include it)\n",
    "        cost = np.sum(loss ** 2) / (2 * m)\n",
    "        if i % (numIterations // 40) == 0:\n",
    "            print(\"Iteration %d | Cost: %f\" % (i, cost))\n",
    "            print(theta)\n",
    "        costs.append(cost)\n",
    "        # avg gradient per example\n",
    "        gradient = np.dot(xTrans, loss) / m\n",
    "        # update\n",
    "        theta = theta - alpha * gradient\n",
<<<<<<< HEAD
    "    sns.scatterplot(y=costs, x=[i for i in range(len(costs))])\n",
=======
    "    sns.scatterplot(y=costs, x=[i for i in range(len(costs))], color ='r')\n",
>>>>>>> 52089019591787422b768c4a8bd431ce2533c13c
    "\n",
    "    return theta"
   ]
  },
  {
   "cell_type": "code",
   "execution_count": 23,
   "metadata": {},
   "outputs": [
    {
     "name": "stdout",
     "output_type": "stream",
     "text": [
      "Iteration 0 | Cost: 198.965538\n",
      "[1.90595185 1.5342646 ]\n",
      "Iteration 3750 | Cost: 168.429209\n",
      "[5.28759582 1.48065123]\n",
      "Iteration 7500 | Cost: 143.193516\n",
      "[8.36236796 1.4342943 ]\n",
      "Iteration 11250 | Cost: 122.330592\n",
      "[11.15808299  1.39214459]\n",
      "Iteration 15000 | Cost: 105.082737\n",
      "[13.70006729  1.35382026]\n",
      "Iteration 18750 | Cost: 90.823542\n",
      "[16.01134871  1.31897413]\n",
      "Iteration 22500 | Cost: 79.035139\n",
      "[18.11286516  1.28729053]\n",
      "Iteration 26250 | Cost: 69.289398\n",
      "[20.02365426  1.25848243]\n",
      "Iteration 30000 | Cost: 61.232371\n",
      "[21.76102587  1.23228888]\n",
      "Iteration 33750 | Cost: 54.571444\n",
      "[23.34071883  1.20847257]\n",
      "Iteration 37500 | Cost: 49.064702\n",
      "[24.77704359  1.18681776]\n",
      "Iteration 41250 | Cost: 44.512154\n",
      "[26.08301182  1.16712828]\n",
      "Iteration 45000 | Cost: 40.748458\n",
      "[27.27045429  1.14922575]\n",
      "Iteration 48750 | Cost: 37.636925\n",
      "[28.35012803  1.132948  ]\n",
      "Iteration 52500 | Cost: 35.064549\n",
      "[29.33181382  1.11814758]\n",
      "Iteration 56250 | Cost: 32.937908\n",
      "[30.22440474  1.10469039]\n",
      "Iteration 60000 | Cost: 31.179765\n",
      "[31.03598679  1.09245454]\n",
      "Iteration 63750 | Cost: 29.726268\n",
      "[31.77391208  1.08132918]\n",
      "Iteration 67500 | Cost: 28.524628\n",
      "[32.44486548  1.07121352]\n",
      "Iteration 71250 | Cost: 27.531206\n",
      "[33.05492516  1.06201593]\n",
      "Iteration 75000 | Cost: 26.709921\n",
      "[33.60961765  1.05365309]\n",
      "Iteration 78750 | Cost: 26.030946\n",
      "[34.11396791  1.04604923]\n",
      "Iteration 82500 | Cost: 25.469621\n",
      "[34.57254485  1.03913548]\n",
      "Iteration 86250 | Cost: 25.005562\n",
      "[34.98950272  1.03284919]\n",
      "Iteration 90000 | Cost: 24.621913\n",
      "[35.36861875  1.02713343]\n",
      "Iteration 93750 | Cost: 24.304742\n",
      "[35.71332734  1.02193642]\n",
      "Iteration 97500 | Cost: 24.042530\n",
      "[36.02675121  1.01721107]\n",
      "Iteration 101250 | Cost: 23.825752\n",
      "[36.31172966  1.01291458]\n",
      "Iteration 105000 | Cost: 23.646538\n",
      "[36.57084433  1.00900803]\n",
      "Iteration 108750 | Cost: 23.498377\n",
      "[36.80644253  1.00545602]\n",
      "Iteration 112500 | Cost: 23.375889\n",
      "[37.02065854  1.00222639]\n",
      "Iteration 116250 | Cost: 23.274626\n",
      "[37.21543294  0.99928986]\n",
      "Iteration 120000 | Cost: 23.190909\n",
      "[37.39253021  0.99661985]\n",
      "Iteration 123750 | Cost: 23.121698\n",
      "[37.55355465  0.99419216]\n",
      "Iteration 127500 | Cost: 23.064480\n",
      "[37.699965    0.99198479]\n",
      "Iteration 131250 | Cost: 23.017177\n",
      "[37.83308759  0.98997777]\n",
      "Iteration 135000 | Cost: 22.978070\n",
      "[37.95412837  0.98815289]\n",
      "Iteration 138750 | Cost: 22.945739\n",
      "[38.06418385  0.98649363]\n",
      "Iteration 142500 | Cost: 22.919011\n",
      "[38.16425102  0.98498497]\n",
      "Iteration 146250 | Cost: 22.896914\n",
      "[38.2552364   0.98361322]\n"
     ]
    },
    {
     "data": {
      "image/png": "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\n",
      "text/plain": [
       "<Figure size 432x288 with 1 Axes>"
      ]
     },
     "metadata": {
      "needs_background": "light"
     },
     "output_type": "display_data"
    }
   ],
   "source": [
    "numIterations = 150000\n",
    "alpha = 0.0001\n",
    "theta = np.array([1.90595185,1.5342646])\n",
    "a = gradientDescent(x, y, theta, alpha, m, numIterationsa.\n",
    "n"
   ]
  },
  {
   "cell_type": "code",
   "execution_count": 24,
   "metadata": {},
   "outputs": [
    {
     "data": {
      "text/plain": [
       "array([38.33796422,  0.98236597])"
      ]
     },
     "execution_count": 24,
     "metadata": {},
     "output_type": "execute_result"
    }
   ],
   "source": [
    "a"
   ]
  },
  {
   "cell_type": "code",
   "execution_count": 25,
   "metadata": {},
   "outputs": [],
   "source": [
    "from sklearn.linear_model import LinearRegression"
   ]
  },
  {
   "cell_type": "code",
   "execution_count": 26,
   "metadata": {},
   "outputs": [
    {
     "data": {
      "text/plain": [
       "LinearRegression(copy_X=True, fit_intercept=False, n_jobs=None, normalize=False)"
      ]
     },
     "execution_count": 26,
     "metadata": {},
     "output_type": "execute_result"
    }
   ],
   "source": [
    "lr = LinearRegression(fit_intercept= False)\n",
    "\n",
    "\n",
    "lr.fit(x,y)\n"
   ]
  },
  {
   "cell_type": "code",
   "execution_count": 27,
   "metadata": {},
   "outputs": [
    {
     "data": {
      "text/plain": [
       "array([39.16676732,  0.96987049])"
      ]
     },
     "execution_count": 27,
     "metadata": {},
     "output_type": "execute_result"
    }
   ],
   "source": [
    "lr.coef_"
   ]
  },
  {
   "cell_type": "code",
   "execution_count": null,
   "metadata": {},
   "outputs": [],
   "source": []
  }
 ],
 "metadata": {
  "kernelspec": {
   "display_name": "Python 3",
   "language": "python",
   "name": "python3"
  },
  "language_info": {
   "codemirror_mode": {
    "name": "ipython",
    "version": 3
   },
   "file_extension": ".py",
   "mimetype": "text/x-python",
   "name": "python",
   "nbconvert_exporter": "python",
   "pygments_lexer": "ipython3",
   "version": "3.7.3"
  },
  "toc": {
   "base_numbering": 1,
   "nav_menu": {},
   "number_sections": true,
   "sideBar": true,
   "skip_h1_title": false,
   "title_cell": "Table of Contents",
   "title_sidebar": "Contents",
   "toc_cell": false,
   "toc_position": {},
   "toc_section_display": true,
   "toc_window_display": false
  }
 },
 "nbformat": 4,
 "nbformat_minor": 2
}
